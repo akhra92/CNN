{
 "cells": [
  {
   "cell_type": "code",
   "execution_count": 6,
   "id": "e5f7003b",
   "metadata": {},
   "outputs": [],
   "source": [
    "import keras\n",
    "from keras.models import Sequential\n",
    "from keras.layers import Conv2D, MaxPooling2D, Dense, Flatten, Dropout\n",
    "from keras.optimizers import Adam\n",
    "from keras.callbacks import TensorBoard\n",
    "\n",
    "import numpy as np\n",
    "import pandas as pd\n",
    "import matplotlib.pyplot as plt\n",
    "from sklearn.model_selection import train_test_split\n",
    "\n",
    "from sklearn.metrics import confusion_matrix\n",
    "from sklearn.metrics import classification_report\n",
    "from sklearn.metrics import roc_curve, auc\n",
    "from sklearn.metrics import accuracy_score\n",
    "from keras.utils import np_utils\n",
    "import itertools"
   ]
  },
  {
   "cell_type": "code",
   "execution_count": 8,
   "id": "6f9803b9",
   "metadata": {},
   "outputs": [
    {
     "name": "stdout",
     "output_type": "stream",
     "text": [
      "x_train : [[0.1882353  0.19215687 0.1764706  ... 0.18431373 0.18039216 0.18039216]\n",
      " [0.23529412 0.23529412 0.24313726 ... 0.1254902  0.13333334 0.13333334]\n",
      " [0.15294118 0.17254902 0.20784314 ... 0.11372549 0.10196079 0.11372549]\n",
      " ...\n",
      " [0.44705883 0.45882353 0.44705883 ... 0.38431373 0.3764706  0.38431373]\n",
      " [0.4117647  0.4117647  0.41960785 ... 0.21176471 0.18431373 0.16078432]\n",
      " [0.45490196 0.44705883 0.45882353 ... 0.37254903 0.39215687 0.39607844]]\n",
      "Y-train shape: [ 0  0  0  0  0  0  0  0  0  0  0  0  1  1  1  1  1  1  1  1  1  1  1  1\n",
      "  2  2  2  2  2  2  2  2  2  2  2  2  3  3  3  3  3  3  3  3  3  3  3  3\n",
      "  4  4  4  4  4  4  4  4  4  4  4  4  5  5  5  5  5  5  5  5  5  5  5  5\n",
      "  6  6  6  6  6  6  6  6  6  6  6  6  7  7  7  7  7  7  7  7  7  7  7  7\n",
      "  8  8  8  8  8  8  8  8  8  8  8  8  9  9  9  9  9  9  9  9  9  9  9  9\n",
      " 10 10 10 10 10 10 10 10 10 10 10 10 11 11 11 11 11 11 11 11 11 11 11 11\n",
      " 12 12 12 12 12 12 12 12 12 12 12 12 13 13 13 13 13 13 13 13 13 13 13 13\n",
      " 14 14 14 14 14 14 14 14 14 14 14 14 15 15 15 15 15 15 15 15 15 15 15 15\n",
      " 16 16 16 16 16 16 16 16 16 16 16 16 17 17 17 17 17 17 17 17 17 17 17 17\n",
      " 18 18 18 18 18 18 18 18 18 18 18 18 19 19 19 19 19 19 19 19 19 19 19 19]\n",
      "x_test shape: (160, 10304)\n"
     ]
    }
   ],
   "source": [
    "#load dataset\n",
    "data = np.load('C:\\\\Users\\\\Akhror\\\\Desktop\\\\ORL_faces.npz') \n",
    "\n",
    "# load the \"Train Images\"\n",
    "x_train = data['trainX']\n",
    "#normalize every image\n",
    "x_train = np.array(x_train,dtype='float32')/255\n",
    "\n",
    "x_test = data['testX']\n",
    "x_test = np.array(x_test,dtype='float32')/255\n",
    "\n",
    "# load the Label of Images\n",
    "y_train= data['trainY']\n",
    "y_test= data['testY']\n",
    "\n",
    "# show the train and test Data format\n",
    "print('x_train : {}'.format(x_train[:]))\n",
    "print('Y-train shape: {}'.format(y_train))\n",
    "print('x_test shape: {}'.format(x_test.shape))"
   ]
  },
  {
   "cell_type": "code",
   "execution_count": 9,
   "id": "241ef1e5",
   "metadata": {},
   "outputs": [],
   "source": [
    "x_train, x_valid, y_train, y_valid= train_test_split(\n",
    "    x_train, y_train, test_size=.05, random_state=1234,)"
   ]
  },
  {
   "cell_type": "code",
   "execution_count": 10,
   "id": "5db4889b",
   "metadata": {},
   "outputs": [
    {
     "name": "stdout",
     "output_type": "stream",
     "text": [
      "x_train shape: 228\n",
      "x_test shape: (160,)\n"
     ]
    }
   ],
   "source": [
    "im_rows=112\n",
    "im_cols=92\n",
    "batch_size=512\n",
    "im_shape=(im_rows, im_cols, 1)\n",
    "\n",
    "#change the size of images\n",
    "x_train = x_train.reshape(x_train.shape[0], *im_shape)\n",
    "x_test = x_test.reshape(x_test.shape[0], *im_shape)\n",
    "x_valid = x_valid.reshape(x_valid.shape[0], *im_shape)\n",
    "\n",
    "print('x_train shape: {}'.format(y_train.shape[0]))\n",
    "print('x_test shape: {}'.format(y_test.shape))"
   ]
  },
  {
   "cell_type": "code",
   "execution_count": 12,
   "id": "24726cfa",
   "metadata": {},
   "outputs": [],
   "source": [
    "#filters= the depth of output image or kernels\n",
    "\n",
    "cnn_model= Sequential([\n",
    "    Conv2D(filters=36, kernel_size=7, activation='relu', input_shape= im_shape),\n",
    "    MaxPooling2D(pool_size=2),\n",
    "    Conv2D(filters=54, kernel_size=5, activation='relu', input_shape= im_shape),\n",
    "    MaxPooling2D(pool_size=2),\n",
    "    Flatten(),\n",
    "    Dense(2024, activation='relu'),\n",
    "     Dropout(0.5),\n",
    "    Dense(1024, activation='relu'),\n",
    "    Dropout(0.5),\n",
    "    Dense(512, activation='relu'),\n",
    "    Dropout(0.5),\n",
    "    #20 is the number of outputs\n",
    "    Dense(20, activation='softmax')  \n",
    "])\n",
    "\n",
    "cnn_model.compile(\n",
    "    loss='sparse_categorical_crossentropy',#'categorical_crossentropy',\n",
    "    optimizer=Adam(learning_rate=0.0001),\n",
    "    metrics=['accuracy']\n",
    ")"
   ]
  },
  {
   "cell_type": "code",
   "execution_count": 13,
   "id": "130a1127",
   "metadata": {},
   "outputs": [
    {
     "name": "stdout",
     "output_type": "stream",
     "text": [
      "Model: \"sequential_3\"\n",
      "_________________________________________________________________\n",
      " Layer (type)                Output Shape              Param #   \n",
      "=================================================================\n",
      " conv2d_6 (Conv2D)           (None, 106, 86, 36)       1800      \n",
      "                                                                 \n",
      " max_pooling2d_6 (MaxPooling  (None, 53, 43, 36)       0         \n",
      " 2D)                                                             \n",
      "                                                                 \n",
      " conv2d_7 (Conv2D)           (None, 49, 39, 54)        48654     \n",
      "                                                                 \n",
      " max_pooling2d_7 (MaxPooling  (None, 24, 19, 54)       0         \n",
      " 2D)                                                             \n",
      "                                                                 \n",
      " flatten_3 (Flatten)         (None, 24624)             0         \n",
      "                                                                 \n",
      " dense_8 (Dense)             (None, 2024)              49841000  \n",
      "                                                                 \n",
      " dropout_3 (Dropout)         (None, 2024)              0         \n",
      "                                                                 \n",
      " dense_9 (Dense)             (None, 1024)              2073600   \n",
      "                                                                 \n",
      " dropout_4 (Dropout)         (None, 1024)              0         \n",
      "                                                                 \n",
      " dense_10 (Dense)            (None, 512)               524800    \n",
      "                                                                 \n",
      " dropout_5 (Dropout)         (None, 512)               0         \n",
      "                                                                 \n",
      " dense_11 (Dense)            (None, 20)                10260     \n",
      "                                                                 \n",
      "=================================================================\n",
      "Total params: 52,500,114\n",
      "Trainable params: 52,500,114\n",
      "Non-trainable params: 0\n",
      "_________________________________________________________________\n"
     ]
    }
   ],
   "source": [
    "cnn_model.summary()"
   ]
  },
  {
   "cell_type": "code",
   "execution_count": 15,
   "id": "013a057a",
   "metadata": {},
   "outputs": [
    {
     "name": "stdout",
     "output_type": "stream",
     "text": [
      "Epoch 1/50\n",
      "1/1 - 2s - loss: 2.7980 - accuracy: 0.2325 - val_loss: 2.8344 - val_accuracy: 0.1667 - 2s/epoch - 2s/step\n",
      "Epoch 2/50\n",
      "1/1 - 2s - loss: 2.7909 - accuracy: 0.2325 - val_loss: 2.8152 - val_accuracy: 0.1667 - 2s/epoch - 2s/step\n",
      "Epoch 3/50\n",
      "1/1 - 2s - loss: 2.7870 - accuracy: 0.2237 - val_loss: 2.7987 - val_accuracy: 0.2500 - 2s/epoch - 2s/step\n",
      "Epoch 4/50\n",
      "1/1 - 2s - loss: 2.7256 - accuracy: 0.2500 - val_loss: 2.7810 - val_accuracy: 0.2500 - 2s/epoch - 2s/step\n",
      "Epoch 5/50\n",
      "1/1 - 2s - loss: 2.7366 - accuracy: 0.1930 - val_loss: 2.7598 - val_accuracy: 0.1667 - 2s/epoch - 2s/step\n",
      "Epoch 6/50\n",
      "1/1 - 2s - loss: 2.7014 - accuracy: 0.2281 - val_loss: 2.7301 - val_accuracy: 0.1667 - 2s/epoch - 2s/step\n",
      "Epoch 7/50\n",
      "1/1 - 2s - loss: 2.6861 - accuracy: 0.2325 - val_loss: 2.6974 - val_accuracy: 0.1667 - 2s/epoch - 2s/step\n",
      "Epoch 8/50\n",
      "1/1 - 2s - loss: 2.5875 - accuracy: 0.2851 - val_loss: 2.6581 - val_accuracy: 0.1667 - 2s/epoch - 2s/step\n",
      "Epoch 9/50\n",
      "1/1 - 2s - loss: 2.5938 - accuracy: 0.2851 - val_loss: 2.6164 - val_accuracy: 0.2500 - 2s/epoch - 2s/step\n",
      "Epoch 10/50\n",
      "1/1 - 2s - loss: 2.5680 - accuracy: 0.2456 - val_loss: 2.5702 - val_accuracy: 0.2500 - 2s/epoch - 2s/step\n",
      "Epoch 11/50\n",
      "1/1 - 2s - loss: 2.5615 - accuracy: 0.2544 - val_loss: 2.5226 - val_accuracy: 0.2500 - 2s/epoch - 2s/step\n",
      "Epoch 12/50\n",
      "1/1 - 2s - loss: 2.5345 - accuracy: 0.2939 - val_loss: 2.4693 - val_accuracy: 0.4167 - 2s/epoch - 2s/step\n",
      "Epoch 13/50\n",
      "1/1 - 2s - loss: 2.4598 - accuracy: 0.2675 - val_loss: 2.4130 - val_accuracy: 0.5000 - 2s/epoch - 2s/step\n",
      "Epoch 14/50\n",
      "1/1 - 2s - loss: 2.4141 - accuracy: 0.3333 - val_loss: 2.3605 - val_accuracy: 0.5833 - 2s/epoch - 2s/step\n",
      "Epoch 15/50\n",
      "1/1 - 2s - loss: 2.3731 - accuracy: 0.3289 - val_loss: 2.3045 - val_accuracy: 0.5833 - 2s/epoch - 2s/step\n",
      "Epoch 16/50\n",
      "1/1 - 2s - loss: 2.3270 - accuracy: 0.3684 - val_loss: 2.2453 - val_accuracy: 0.5833 - 2s/epoch - 2s/step\n",
      "Epoch 17/50\n",
      "1/1 - 2s - loss: 2.2584 - accuracy: 0.3904 - val_loss: 2.1852 - val_accuracy: 0.5833 - 2s/epoch - 2s/step\n",
      "Epoch 18/50\n",
      "1/1 - 2s - loss: 2.1991 - accuracy: 0.3684 - val_loss: 2.1242 - val_accuracy: 0.5833 - 2s/epoch - 2s/step\n",
      "Epoch 19/50\n",
      "1/1 - 2s - loss: 2.1017 - accuracy: 0.4254 - val_loss: 2.0570 - val_accuracy: 0.5833 - 2s/epoch - 2s/step\n",
      "Epoch 20/50\n",
      "1/1 - 2s - loss: 2.0746 - accuracy: 0.4561 - val_loss: 1.9804 - val_accuracy: 0.5833 - 2s/epoch - 2s/step\n",
      "Epoch 21/50\n",
      "1/1 - 2s - loss: 2.0001 - accuracy: 0.4342 - val_loss: 1.9046 - val_accuracy: 0.5833 - 2s/epoch - 2s/step\n",
      "Epoch 22/50\n",
      "1/1 - 2s - loss: 1.9485 - accuracy: 0.4254 - val_loss: 1.8227 - val_accuracy: 0.6667 - 2s/epoch - 2s/step\n",
      "Epoch 23/50\n",
      "1/1 - 2s - loss: 1.8896 - accuracy: 0.4342 - val_loss: 1.7314 - val_accuracy: 0.7500 - 2s/epoch - 2s/step\n",
      "Epoch 24/50\n",
      "1/1 - 2s - loss: 1.8470 - accuracy: 0.4693 - val_loss: 1.6481 - val_accuracy: 0.7500 - 2s/epoch - 2s/step\n",
      "Epoch 25/50\n",
      "1/1 - 2s - loss: 1.7470 - accuracy: 0.5263 - val_loss: 1.5616 - val_accuracy: 0.7500 - 2s/epoch - 2s/step\n",
      "Epoch 26/50\n",
      "1/1 - 2s - loss: 1.7415 - accuracy: 0.4737 - val_loss: 1.4841 - val_accuracy: 0.8333 - 2s/epoch - 2s/step\n",
      "Epoch 27/50\n",
      "1/1 - 2s - loss: 1.6767 - accuracy: 0.5395 - val_loss: 1.4007 - val_accuracy: 0.8333 - 2s/epoch - 2s/step\n",
      "Epoch 28/50\n",
      "1/1 - 2s - loss: 1.5026 - accuracy: 0.5526 - val_loss: 1.2971 - val_accuracy: 0.8333 - 2s/epoch - 2s/step\n",
      "Epoch 29/50\n",
      "1/1 - 2s - loss: 1.5658 - accuracy: 0.5789 - val_loss: 1.2169 - val_accuracy: 0.7500 - 2s/epoch - 2s/step\n",
      "Epoch 30/50\n",
      "1/1 - 2s - loss: 1.4171 - accuracy: 0.6316 - val_loss: 1.1496 - val_accuracy: 0.8333 - 2s/epoch - 2s/step\n",
      "Epoch 31/50\n",
      "1/1 - 2s - loss: 1.4266 - accuracy: 0.5833 - val_loss: 1.1115 - val_accuracy: 0.9167 - 2s/epoch - 2s/step\n",
      "Epoch 32/50\n",
      "1/1 - 2s - loss: 1.4868 - accuracy: 0.5526 - val_loss: 1.0705 - val_accuracy: 0.9167 - 2s/epoch - 2s/step\n",
      "Epoch 33/50\n",
      "1/1 - 2s - loss: 1.3109 - accuracy: 0.6096 - val_loss: 1.0216 - val_accuracy: 0.9167 - 2s/epoch - 2s/step\n",
      "Epoch 34/50\n",
      "1/1 - 3s - loss: 1.2784 - accuracy: 0.6667 - val_loss: 0.9560 - val_accuracy: 1.0000 - 3s/epoch - 3s/step\n",
      "Epoch 35/50\n",
      "1/1 - 3s - loss: 1.2314 - accuracy: 0.6360 - val_loss: 0.8974 - val_accuracy: 1.0000 - 3s/epoch - 3s/step\n",
      "Epoch 36/50\n",
      "1/1 - 2s - loss: 1.1790 - accuracy: 0.6447 - val_loss: 0.8405 - val_accuracy: 1.0000 - 2s/epoch - 2s/step\n",
      "Epoch 37/50\n",
      "1/1 - 2s - loss: 1.1460 - accuracy: 0.6842 - val_loss: 0.7930 - val_accuracy: 1.0000 - 2s/epoch - 2s/step\n",
      "Epoch 38/50\n",
      "1/1 - 2s - loss: 1.1050 - accuracy: 0.6930 - val_loss: 0.7257 - val_accuracy: 1.0000 - 2s/epoch - 2s/step\n",
      "Epoch 39/50\n",
      "1/1 - 2s - loss: 1.0385 - accuracy: 0.7149 - val_loss: 0.6682 - val_accuracy: 1.0000 - 2s/epoch - 2s/step\n",
      "Epoch 40/50\n",
      "1/1 - 2s - loss: 0.9557 - accuracy: 0.7061 - val_loss: 0.6236 - val_accuracy: 1.0000 - 2s/epoch - 2s/step\n",
      "Epoch 41/50\n",
      "1/1 - 2s - loss: 0.9237 - accuracy: 0.7281 - val_loss: 0.5801 - val_accuracy: 1.0000 - 2s/epoch - 2s/step\n",
      "Epoch 42/50\n",
      "1/1 - 2s - loss: 0.9453 - accuracy: 0.7061 - val_loss: 0.5529 - val_accuracy: 1.0000 - 2s/epoch - 2s/step\n",
      "Epoch 43/50\n",
      "1/1 - 2s - loss: 0.8634 - accuracy: 0.7456 - val_loss: 0.4876 - val_accuracy: 1.0000 - 2s/epoch - 2s/step\n",
      "Epoch 44/50\n",
      "1/1 - 2s - loss: 0.8605 - accuracy: 0.7632 - val_loss: 0.4464 - val_accuracy: 1.0000 - 2s/epoch - 2s/step\n",
      "Epoch 45/50\n",
      "1/1 - 2s - loss: 0.8136 - accuracy: 0.7193 - val_loss: 0.4057 - val_accuracy: 1.0000 - 2s/epoch - 2s/step\n",
      "Epoch 46/50\n",
      "1/1 - 2s - loss: 0.7646 - accuracy: 0.7939 - val_loss: 0.3725 - val_accuracy: 1.0000 - 2s/epoch - 2s/step\n",
      "Epoch 47/50\n",
      "1/1 - 2s - loss: 0.7707 - accuracy: 0.7939 - val_loss: 0.3347 - val_accuracy: 1.0000 - 2s/epoch - 2s/step\n",
      "Epoch 48/50\n",
      "1/1 - 2s - loss: 0.7068 - accuracy: 0.7851 - val_loss: 0.3090 - val_accuracy: 1.0000 - 2s/epoch - 2s/step\n",
      "Epoch 49/50\n",
      "1/1 - 2s - loss: 0.5874 - accuracy: 0.8509 - val_loss: 0.2792 - val_accuracy: 1.0000 - 2s/epoch - 2s/step\n",
      "Epoch 50/50\n",
      "1/1 - 2s - loss: 0.6869 - accuracy: 0.7588 - val_loss: 0.2506 - val_accuracy: 1.0000 - 2s/epoch - 2s/step\n"
     ]
    }
   ],
   "source": [
    "history=cnn_model.fit(\n",
    "    np.array(x_train), np.array(y_train), batch_size=512,\n",
    "    epochs=50, verbose=2,\n",
    "    validation_data=(np.array(x_valid),np.array(y_valid)),\n",
    ")"
   ]
  },
  {
   "cell_type": "code",
   "execution_count": 16,
   "id": "99cc123c",
   "metadata": {},
   "outputs": [
    {
     "name": "stdout",
     "output_type": "stream",
     "text": [
      "test los 0.5080\n",
      "test acc 0.8750\n"
     ]
    }
   ],
   "source": [
    "scor = cnn_model.evaluate( np.array(x_test),  np.array(y_test), verbose=0)\n",
    "\n",
    "print('test los {:.4f}'.format(scor[0]))\n",
    "print('test acc {:.4f}'.format(scor[1]))"
   ]
  },
  {
   "cell_type": "code",
   "execution_count": 18,
   "id": "3690abcc",
   "metadata": {},
   "outputs": [
    {
     "name": "stdout",
     "output_type": "stream",
     "text": [
      "dict_keys(['loss', 'accuracy', 'val_loss', 'val_accuracy'])\n"
     ]
    },
    {
     "data": {
      "image/png": "[encoded data removed]",
      "text/plain": [
       "<Figure size 432x288 with 1 Axes>"
      ]
     },
     "metadata": {
      "needs_background": "light"
     },
     "output_type": "display_data"
    },
    {
     "data": {
      "image/png": "[encoded data removed]",
      "text/plain": [
       "<Figure size 432x288 with 1 Axes>"
      ]
     },
     "metadata": {
      "needs_background": "light"
     },
     "output_type": "display_data"
    }
   ],
   "source": [
    "# list all data in history\n",
    "print(history.history.keys())\n",
    "# summarize history for accuracy\n",
    "plt.plot(history.history['accuracy'])\n",
    "plt.plot(history.history['val_accuracy'])\n",
    "plt.title('model accuracy')\n",
    "plt.ylabel('accuracy')\n",
    "plt.xlabel('epoch')\n",
    "plt.legend(['train', 'test'], loc='upper left')\n",
    "plt.show()\n",
    "# summarize history for loss\n",
    "plt.plot(history.history['loss'])\n",
    "plt.plot(history.history['val_loss'])\n",
    "plt.title('model loss')\n",
    "plt.ylabel('loss')\n",
    "plt.xlabel('epoch')\n",
    "plt.legend(['train', 'test'], loc='upper left')\n",
    "plt.show()"
   ]
  },
  {
   "cell_type": "code",
   "execution_count": null,
   "id": "ab10f21d",
   "metadata": {},
   "outputs": [],
   "source": []
  }
 ],
 "metadata": {
  "kernelspec": {
   "display_name": "Python 3 (ipykernel)",
   "language": "python",
   "name": "python3"
  },
  "language_info": {
   "codemirror_mode": {
    "name": "ipython",
    "version": 3
   },
   "file_extension": ".py",
   "mimetype": "text/x-python",
   "name": "python",
   "nbconvert_exporter": "python",
   "pygments_lexer": "ipython3",
   "version": "3.9.12"
  }
 },
 "nbformat": 4,
 "nbformat_minor": 5
}
