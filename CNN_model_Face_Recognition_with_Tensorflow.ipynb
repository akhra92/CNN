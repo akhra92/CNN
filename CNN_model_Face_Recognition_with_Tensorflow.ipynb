{
 "cells": [
  {
   "cell_type": "code",
   "execution_count": 4,
   "id": "e5f7003b",
   "metadata": {},
   "outputs": [],
   "source": [
    "import keras\n",
    "from keras.models import Sequential\n",
    "from keras.layers import Conv2D, MaxPooling2D, Dense, Flatten, Dropout\n",
    "from keras.optimizers import Adam\n",
    "from keras.callbacks import TensorBoard\n",
    "\n",
    "import numpy as np\n",
    "import pandas as pd\n",
    "import matplotlib.pyplot as plt\n",
    "from sklearn.model_selection import train_test_split\n",
    "\n",
    "from sklearn.metrics import confusion_matrix\n",
    "from sklearn.metrics import classification_report\n",
    "from sklearn.metrics import roc_curve, auc\n",
    "from sklearn.metrics import accuracy_score\n",
    "from keras.utils import np_utils\n",
    "import itertools\n"
   ]
  },
  {
   "cell_type": "code",
   "execution_count": 5,
   "id": "6f9803b9",
   "metadata": {},
   "outputs": [
    {
     "name": "stdout",
     "output_type": "stream",
     "text": [
      "x_train : [[0.1882353  0.19215687 0.1764706  ... 0.18431373 0.18039216 0.18039216]\n",
      " [0.23529412 0.23529412 0.24313726 ... 0.1254902  0.13333334 0.13333334]\n",
      " [0.15294118 0.17254902 0.20784314 ... 0.11372549 0.10196079 0.11372549]\n",
      " ...\n",
      " [0.44705883 0.45882353 0.44705883 ... 0.38431373 0.3764706  0.38431373]\n",
      " [0.4117647  0.4117647  0.41960785 ... 0.21176471 0.18431373 0.16078432]\n",
      " [0.45490196 0.44705883 0.45882353 ... 0.37254903 0.39215687 0.39607844]]\n",
      "Y-train shape: [ 0  0  0  0  0  0  0  0  0  0  0  0  1  1  1  1  1  1  1  1  1  1  1  1\n",
      "  2  2  2  2  2  2  2  2  2  2  2  2  3  3  3  3  3  3  3  3  3  3  3  3\n",
      "  4  4  4  4  4  4  4  4  4  4  4  4  5  5  5  5  5  5  5  5  5  5  5  5\n",
      "  6  6  6  6  6  6  6  6  6  6  6  6  7  7  7  7  7  7  7  7  7  7  7  7\n",
      "  8  8  8  8  8  8  8  8  8  8  8  8  9  9  9  9  9  9  9  9  9  9  9  9\n",
      " 10 10 10 10 10 10 10 10 10 10 10 10 11 11 11 11 11 11 11 11 11 11 11 11\n",
      " 12 12 12 12 12 12 12 12 12 12 12 12 13 13 13 13 13 13 13 13 13 13 13 13\n",
      " 14 14 14 14 14 14 14 14 14 14 14 14 15 15 15 15 15 15 15 15 15 15 15 15\n",
      " 16 16 16 16 16 16 16 16 16 16 16 16 17 17 17 17 17 17 17 17 17 17 17 17\n",
      " 18 18 18 18 18 18 18 18 18 18 18 18 19 19 19 19 19 19 19 19 19 19 19 19]\n",
      "x_test shape: (160, 10304)\n"
     ]
    }
   ],
   "source": [
    "#load dataset\n",
    "data = np.load('C:\\\\Users\\\\Akhror\\\\Desktop\\\\ORL_faces.npz') \n",
    "\n",
    "# load the \"Train Images\"\n",
    "x_train = data['trainX']\n",
    "#normalize every image\n",
    "x_train = np.array(x_train,dtype='float32')/255\n",
    "\n",
    "x_test = data['testX']\n",
    "x_test = np.array(x_test,dtype='float32')/255\n",
    "\n",
    "# load the Label of Images\n",
    "y_train= data['trainY']\n",
    "y_test= data['testY']\n",
    "\n",
    "# show the train and test Data format\n",
    "print('x_train : {}'.format(x_train[:]))\n",
    "print('Y-train shape: {}'.format(y_train))\n",
    "print('x_test shape: {}'.format(x_test.shape))"
   ]
  },
  {
   "cell_type": "code",
   "execution_count": 6,
   "id": "241ef1e5",
   "metadata": {},
   "outputs": [],
   "source": [
    "x_train, x_valid, y_train, y_valid= train_test_split(\n",
    "    x_train, y_train, test_size=.05, random_state=1234,)"
   ]
  },
  {
   "cell_type": "code",
   "execution_count": 7,
   "id": "1291400e",
   "metadata": {},
   "outputs": [
    {
     "name": "stdout",
     "output_type": "stream",
     "text": [
      "x_train shape: 228\n",
      "x_test shape: (160,)\n"
     ]
    }
   ],
   "source": [
    "im_rows=112\n",
    "im_cols=92\n",
    "batch_size=512\n",
    "im_shape=(im_rows, im_cols, 1)\n",
    "\n",
    "#change the size of images\n",
    "x_train = x_train.reshape(x_train.shape[0], *im_shape)\n",
    "x_test = x_test.reshape(x_test.shape[0], *im_shape)\n",
    "x_valid = x_valid.reshape(x_valid.shape[0], *im_shape)\n",
    "\n",
    "print('x_train shape: {}'.format(y_train.shape[0]))\n",
    "print('x_test shape: {}'.format(y_test.shape))"
   ]
  },
  {
   "cell_type": "code",
   "execution_count": 8,
   "id": "a929cea5",
   "metadata": {},
   "outputs": [],
   "source": [
    "#filters= the depth of output image or kernels\n",
    "\n",
    "cnn_model= Sequential([\n",
    "    Conv2D(filters=36, kernel_size=7, activation='relu', input_shape= im_shape),\n",
    "    MaxPooling2D(pool_size=2),\n",
    "    Conv2D(filters=54, kernel_size=5, activation='relu', input_shape= im_shape),\n",
    "    MaxPooling2D(pool_size=2),\n",
    "    Flatten(),\n",
    "    Dense(2024, activation='relu'),\n",
    "     Dropout(0.5),\n",
    "    Dense(1024, activation='relu'),\n",
    "    Dropout(0.5),\n",
    "    Dense(512, activation='relu'),\n",
    "    Dropout(0.5),\n",
    "    #20 is the number of outputs\n",
    "    Dense(20, activation='softmax')  \n",
    "])\n",
    "\n",
    "cnn_model.compile(\n",
    "    loss='sparse_categorical_crossentropy',#'categorical_crossentropy',\n",
    "    optimizer=Adam(learning_rate=0.0001),\n",
    "    metrics=['accuracy']\n",
    ")"
   ]
  },
  {
   "cell_type": "code",
   "execution_count": 9,
   "id": "117fb3a2",
   "metadata": {},
   "outputs": [
    {
     "name": "stdout",
     "output_type": "stream",
     "text": [
      "Model: \"sequential\"\n",
      "_________________________________________________________________\n",
      " Layer (type)                Output Shape              Param #   \n",
      "=================================================================\n",
      " conv2d (Conv2D)             (None, 106, 86, 36)       1800      \n",
      "                                                                 \n",
      " max_pooling2d (MaxPooling2D  (None, 53, 43, 36)       0         \n",
      " )                                                               \n",
      "                                                                 \n",
      " conv2d_1 (Conv2D)           (None, 49, 39, 54)        48654     \n",
      "                                                                 \n",
      " max_pooling2d_1 (MaxPooling  (None, 24, 19, 54)       0         \n",
      " 2D)                                                             \n",
      "                                                                 \n",
      " flatten (Flatten)           (None, 24624)             0         \n",
      "                                                                 \n",
      " dense (Dense)               (None, 2024)              49841000  \n",
      "                                                                 \n",
      " dropout (Dropout)           (None, 2024)              0         \n",
      "                                                                 \n",
      " dense_1 (Dense)             (None, 1024)              2073600   \n",
      "                                                                 \n",
      " dropout_1 (Dropout)         (None, 1024)              0         \n",
      "                                                                 \n",
      " dense_2 (Dense)             (None, 512)               524800    \n",
      "                                                                 \n",
      " dropout_2 (Dropout)         (None, 512)               0         \n",
      "                                                                 \n",
      " dense_3 (Dense)             (None, 20)                10260     \n",
      "                                                                 \n",
      "=================================================================\n",
      "Total params: 52,500,114\n",
      "Trainable params: 52,500,114\n",
      "Non-trainable params: 0\n",
      "_________________________________________________________________\n"
     ]
    }
   ],
   "source": [
    "cnn_model.summary()"
   ]
  },
  {
   "cell_type": "code",
   "execution_count": 10,
   "id": "615f5184",
   "metadata": {},
   "outputs": [
    {
     "name": "stdout",
     "output_type": "stream",
     "text": [
      "Epoch 1/50\n",
      "1/1 - 3s - loss: 3.0261 - accuracy: 0.0307 - val_loss: 2.9962 - val_accuracy: 0.0833 - 3s/epoch - 3s/step\n",
      "Epoch 2/50\n",
      "1/1 - 2s - loss: 2.9826 - accuracy: 0.0526 - val_loss: 2.9881 - val_accuracy: 0.0833 - 2s/epoch - 2s/step\n",
      "Epoch 3/50\n",
      "1/1 - 2s - loss: 3.0022 - accuracy: 0.0702 - val_loss: 2.9990 - val_accuracy: 0.1667 - 2s/epoch - 2s/step\n",
      "Epoch 4/50\n",
      "1/1 - 2s - loss: 3.0193 - accuracy: 0.0570 - val_loss: 3.0063 - val_accuracy: 0.0833 - 2s/epoch - 2s/step\n",
      "Epoch 5/50\n",
      "1/1 - 2s - loss: 3.0352 - accuracy: 0.0395 - val_loss: 3.0149 - val_accuracy: 0.0000e+00 - 2s/epoch - 2s/step\n",
      "Epoch 6/50\n",
      "1/1 - 2s - loss: 3.0278 - accuracy: 0.0526 - val_loss: 3.0194 - val_accuracy: 0.0000e+00 - 2s/epoch - 2s/step\n",
      "Epoch 7/50\n",
      "1/1 - 2s - loss: 2.9903 - accuracy: 0.0395 - val_loss: 3.0187 - val_accuracy: 0.0000e+00 - 2s/epoch - 2s/step\n",
      "Epoch 8/50\n",
      "1/1 - 2s - loss: 2.9813 - accuracy: 0.0833 - val_loss: 3.0187 - val_accuracy: 0.0000e+00 - 2s/epoch - 2s/step\n",
      "Epoch 9/50\n",
      "1/1 - 2s - loss: 2.9927 - accuracy: 0.0789 - val_loss: 3.0186 - val_accuracy: 0.0000e+00 - 2s/epoch - 2s/step\n",
      "Epoch 10/50\n",
      "1/1 - 2s - loss: 3.0098 - accuracy: 0.0526 - val_loss: 3.0148 - val_accuracy: 0.0000e+00 - 2s/epoch - 2s/step\n",
      "Epoch 11/50\n",
      "1/1 - 2s - loss: 2.9706 - accuracy: 0.0789 - val_loss: 3.0105 - val_accuracy: 0.0000e+00 - 2s/epoch - 2s/step\n",
      "Epoch 12/50\n",
      "1/1 - 2s - loss: 2.9697 - accuracy: 0.0702 - val_loss: 3.0076 - val_accuracy: 0.0000e+00 - 2s/epoch - 2s/step\n",
      "Epoch 13/50\n",
      "1/1 - 2s - loss: 2.9683 - accuracy: 0.0921 - val_loss: 3.0048 - val_accuracy: 0.0000e+00 - 2s/epoch - 2s/step\n",
      "Epoch 14/50\n",
      "1/1 - 2s - loss: 2.9531 - accuracy: 0.0746 - val_loss: 3.0023 - val_accuracy: 0.0000e+00 - 2s/epoch - 2s/step\n",
      "Epoch 15/50\n",
      "1/1 - 2s - loss: 2.9591 - accuracy: 0.0658 - val_loss: 2.9989 - val_accuracy: 0.0000e+00 - 2s/epoch - 2s/step\n",
      "Epoch 16/50\n",
      "1/1 - 2s - loss: 2.9633 - accuracy: 0.0789 - val_loss: 2.9944 - val_accuracy: 0.0000e+00 - 2s/epoch - 2s/step\n",
      "Epoch 17/50\n",
      "1/1 - 2s - loss: 2.9441 - accuracy: 0.1184 - val_loss: 2.9891 - val_accuracy: 0.0000e+00 - 2s/epoch - 2s/step\n",
      "Epoch 18/50\n",
      "1/1 - 2s - loss: 2.9368 - accuracy: 0.1053 - val_loss: 2.9846 - val_accuracy: 0.0000e+00 - 2s/epoch - 2s/step\n",
      "Epoch 19/50\n",
      "1/1 - 2s - loss: 2.9266 - accuracy: 0.1228 - val_loss: 2.9824 - val_accuracy: 0.0000e+00 - 2s/epoch - 2s/step\n",
      "Epoch 20/50\n",
      "1/1 - 2s - loss: 2.9494 - accuracy: 0.1228 - val_loss: 2.9790 - val_accuracy: 0.0000e+00 - 2s/epoch - 2s/step\n",
      "Epoch 21/50\n",
      "1/1 - 2s - loss: 2.9158 - accuracy: 0.1316 - val_loss: 2.9755 - val_accuracy: 0.0000e+00 - 2s/epoch - 2s/step\n",
      "Epoch 22/50\n",
      "1/1 - 2s - loss: 2.9020 - accuracy: 0.1404 - val_loss: 2.9689 - val_accuracy: 0.0000e+00 - 2s/epoch - 2s/step\n",
      "Epoch 23/50\n",
      "1/1 - 2s - loss: 2.9075 - accuracy: 0.1360 - val_loss: 2.9588 - val_accuracy: 0.0000e+00 - 2s/epoch - 2s/step\n",
      "Epoch 24/50\n",
      "1/1 - 2s - loss: 2.8923 - accuracy: 0.1667 - val_loss: 2.9455 - val_accuracy: 0.0000e+00 - 2s/epoch - 2s/step\n",
      "Epoch 25/50\n",
      "1/1 - 2s - loss: 2.8840 - accuracy: 0.1535 - val_loss: 2.9314 - val_accuracy: 0.0000e+00 - 2s/epoch - 2s/step\n",
      "Epoch 26/50\n",
      "1/1 - 2s - loss: 2.8675 - accuracy: 0.1623 - val_loss: 2.9176 - val_accuracy: 0.0000e+00 - 2s/epoch - 2s/step\n",
      "Epoch 27/50\n",
      "1/1 - 2s - loss: 2.8788 - accuracy: 0.1316 - val_loss: 2.9025 - val_accuracy: 0.0833 - 2s/epoch - 2s/step\n",
      "Epoch 28/50\n",
      "1/1 - 2s - loss: 2.8301 - accuracy: 0.1930 - val_loss: 2.8882 - val_accuracy: 0.0833 - 2s/epoch - 2s/step\n",
      "Epoch 29/50\n",
      "1/1 - 2s - loss: 2.8461 - accuracy: 0.1974 - val_loss: 2.8711 - val_accuracy: 0.1667 - 2s/epoch - 2s/step\n",
      "Epoch 30/50\n",
      "1/1 - 2s - loss: 2.8084 - accuracy: 0.2105 - val_loss: 2.8576 - val_accuracy: 0.0833 - 2s/epoch - 2s/step\n",
      "Epoch 31/50\n",
      "1/1 - 2s - loss: 2.7963 - accuracy: 0.1711 - val_loss: 2.8408 - val_accuracy: 0.0833 - 2s/epoch - 2s/step\n",
      "Epoch 32/50\n",
      "1/1 - 2s - loss: 2.8072 - accuracy: 0.1711 - val_loss: 2.8163 - val_accuracy: 0.2500 - 2s/epoch - 2s/step\n",
      "Epoch 33/50\n",
      "1/1 - 2s - loss: 2.8038 - accuracy: 0.1974 - val_loss: 2.7887 - val_accuracy: 0.3333 - 2s/epoch - 2s/step\n",
      "Epoch 34/50\n",
      "1/1 - 2s - loss: 2.7523 - accuracy: 0.2149 - val_loss: 2.7625 - val_accuracy: 0.3333 - 2s/epoch - 2s/step\n",
      "Epoch 35/50\n",
      "1/1 - 2s - loss: 2.7173 - accuracy: 0.2456 - val_loss: 2.7373 - val_accuracy: 0.3333 - 2s/epoch - 2s/step\n",
      "Epoch 36/50\n",
      "1/1 - 2s - loss: 2.6594 - accuracy: 0.2851 - val_loss: 2.7114 - val_accuracy: 0.4167 - 2s/epoch - 2s/step\n",
      "Epoch 37/50\n",
      "1/1 - 2s - loss: 2.6711 - accuracy: 0.2895 - val_loss: 2.6856 - val_accuracy: 0.4167 - 2s/epoch - 2s/step\n",
      "Epoch 38/50\n",
      "1/1 - 2s - loss: 2.6666 - accuracy: 0.2456 - val_loss: 2.6621 - val_accuracy: 0.4167 - 2s/epoch - 2s/step\n",
      "Epoch 39/50\n",
      "1/1 - 2s - loss: 2.6146 - accuracy: 0.2500 - val_loss: 2.6379 - val_accuracy: 0.4167 - 2s/epoch - 2s/step\n",
      "Epoch 40/50\n",
      "1/1 - 2s - loss: 2.5715 - accuracy: 0.3158 - val_loss: 2.6026 - val_accuracy: 0.4167 - 2s/epoch - 2s/step\n",
      "Epoch 41/50\n",
      "1/1 - 2s - loss: 2.5444 - accuracy: 0.2632 - val_loss: 2.5481 - val_accuracy: 0.4167 - 2s/epoch - 2s/step\n",
      "Epoch 42/50\n",
      "1/1 - 2s - loss: 2.4936 - accuracy: 0.3158 - val_loss: 2.4870 - val_accuracy: 0.4167 - 2s/epoch - 2s/step\n",
      "Epoch 43/50\n",
      "1/1 - 2s - loss: 2.4831 - accuracy: 0.3333 - val_loss: 2.4309 - val_accuracy: 0.5000 - 2s/epoch - 2s/step\n",
      "Epoch 44/50\n",
      "1/1 - 2s - loss: 2.3726 - accuracy: 0.3860 - val_loss: 2.3808 - val_accuracy: 0.5833 - 2s/epoch - 2s/step\n",
      "Epoch 45/50\n",
      "1/1 - 2s - loss: 2.4030 - accuracy: 0.3509 - val_loss: 2.3253 - val_accuracy: 0.5833 - 2s/epoch - 2s/step\n",
      "Epoch 46/50\n",
      "1/1 - 2s - loss: 2.3586 - accuracy: 0.3070 - val_loss: 2.2710 - val_accuracy: 0.5833 - 2s/epoch - 2s/step\n",
      "Epoch 47/50\n",
      "1/1 - 2s - loss: 2.2964 - accuracy: 0.3465 - val_loss: 2.2209 - val_accuracy: 0.5833 - 2s/epoch - 2s/step\n",
      "Epoch 48/50\n",
      "1/1 - 2s - loss: 2.2085 - accuracy: 0.3860 - val_loss: 2.1549 - val_accuracy: 0.5833 - 2s/epoch - 2s/step\n",
      "Epoch 49/50\n",
      "1/1 - 2s - loss: 2.1434 - accuracy: 0.4167 - val_loss: 2.0691 - val_accuracy: 0.5833 - 2s/epoch - 2s/step\n",
      "Epoch 50/50\n",
      "1/1 - 2s - loss: 2.0449 - accuracy: 0.4474 - val_loss: 1.9854 - val_accuracy: 0.5833 - 2s/epoch - 2s/step\n"
     ]
    }
   ],
   "source": [
    "history=cnn_model.fit(\n",
    "    np.array(x_train), np.array(y_train), batch_size=512,\n",
    "    epochs=50, verbose=2,\n",
    "    validation_data=(np.array(x_valid),np.array(y_valid)),\n",
    ")"
   ]
  },
  {
   "cell_type": "code",
   "execution_count": 14,
   "id": "f8ec483b",
   "metadata": {},
   "outputs": [
    {
     "name": "stdout",
     "output_type": "stream",
     "text": [
      "test los 1.9044\n",
      "test acc 0.6625\n"
     ]
    }
   ],
   "source": [
    "scor = cnn_model.evaluate( np.array(x_test),  np.array(y_test), verbose=0)\n",
    "\n",
    "print('test los {:.4f}'.format(scor[0]))\n",
    "print('test acc {:.4f}'.format(scor[1]))"
   ]
  },
  {
   "cell_type": "code",
   "execution_count": 15,
   "id": "9f2bb264",
   "metadata": {},
   "outputs": [
    {
     "name": "stdout",
     "output_type": "stream",
     "text": [
      "dict_keys(['loss', 'accuracy', 'val_loss', 'val_accuracy'])\n"
     ]
    },
    {
     "data": {
      "image/png": "[encoded data removed]",
      "text/plain": [
       "<Figure size 432x288 with 1 Axes>"
      ]
     },
     "metadata": {
      "needs_background": "light"
     },
     "output_type": "display_data"
    },
    {
     "data": {
      "image/png": "[encoded data removed]",
      "text/plain": [
       "<Figure size 432x288 with 1 Axes>"
      ]
     },
     "metadata": {
      "needs_background": "light"
     },
     "output_type": "display_data"
    }
   ],
   "source": [
    "# list all data in history\n",
    "print(history.history.keys())\n",
    "# summarize history for accuracy\n",
    "plt.plot(history.history['accuracy'])\n",
    "plt.plot(history.history['val_accuracy'])\n",
    "plt.title('model accuracy')\n",
    "plt.ylabel('accuracy')\n",
    "plt.xlabel('epoch')\n",
    "plt.legend(['train', 'test'], loc='upper left')\n",
    "plt.show()\n",
    "# summarize history for loss\n",
    "plt.plot(history.history['loss'])\n",
    "plt.plot(history.history['val_loss'])\n",
    "plt.title('model loss')\n",
    "plt.ylabel('loss')\n",
    "plt.xlabel('epoch')\n",
    "plt.legend(['train', 'test'], loc='upper left')\n",
    "plt.show()"
   ]
  },
  {
   "cell_type": "code",
   "execution_count": null,
   "id": "6342fd14",
   "metadata": {},
   "outputs": [],
   "source": []
  }
 ],
 "metadata": {
  "kernelspec": {
   "display_name": "Python 3 (ipykernel)",
   "language": "python",
   "name": "python3"
  },
  "language_info": {
   "codemirror_mode": {
    "name": "ipython",
    "version": 3
   },
   "file_extension": ".py",
   "mimetype": "text/x-python",
   "name": "python",
   "nbconvert_exporter": "python",
   "pygments_lexer": "ipython3",
   "version": "3.9.12"
  }
 },
 "nbformat": 4,
 "nbformat_minor": 5
}
